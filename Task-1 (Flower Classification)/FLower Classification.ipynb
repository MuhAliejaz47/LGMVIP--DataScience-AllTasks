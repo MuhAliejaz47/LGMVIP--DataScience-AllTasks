{
 "cells": [
  {
   "cell_type": "code",
   "execution_count": 38,
   "metadata": {},
   "outputs": [],
   "source": [
    "import pandas as pd\n",
    "from sklearn.linear_model import LogisticRegression\n",
    "import matplotlib.pyplot as plt\n",
    "from sklearn.model_selection import train_test_split\n",
    "from sklearn.preprocessing import StandardScaler\n"
   ]
  },
  {
   "cell_type": "code",
   "execution_count": 39,
   "metadata": {},
   "outputs": [],
   "source": [
    "data = pd.read_csv('iris_dataset.csv')"
   ]
  },
  {
   "cell_type": "code",
   "execution_count": 40,
   "metadata": {},
   "outputs": [
    {
     "data": {
      "text/html": [
       "<div>\n",
       "<style scoped>\n",
       "    .dataframe tbody tr th:only-of-type {\n",
       "        vertical-align: middle;\n",
       "    }\n",
       "\n",
       "    .dataframe tbody tr th {\n",
       "        vertical-align: top;\n",
       "    }\n",
       "\n",
       "    .dataframe thead th {\n",
       "        text-align: right;\n",
       "    }\n",
       "</style>\n",
       "<table border=\"1\" class=\"dataframe\">\n",
       "  <thead>\n",
       "    <tr style=\"text-align: right;\">\n",
       "      <th></th>\n",
       "      <th>Id</th>\n",
       "      <th>SepalLengthCm</th>\n",
       "      <th>SepalWidthCm</th>\n",
       "      <th>PetalLengthCm</th>\n",
       "      <th>PetalWidthCm</th>\n",
       "      <th>Species</th>\n",
       "    </tr>\n",
       "  </thead>\n",
       "  <tbody>\n",
       "    <tr>\n",
       "      <th>0</th>\n",
       "      <td>1</td>\n",
       "      <td>5.1</td>\n",
       "      <td>3.5</td>\n",
       "      <td>1.4</td>\n",
       "      <td>0.2</td>\n",
       "      <td>Iris-setosa</td>\n",
       "    </tr>\n",
       "    <tr>\n",
       "      <th>1</th>\n",
       "      <td>2</td>\n",
       "      <td>4.9</td>\n",
       "      <td>3.0</td>\n",
       "      <td>1.4</td>\n",
       "      <td>0.2</td>\n",
       "      <td>Iris-setosa</td>\n",
       "    </tr>\n",
       "    <tr>\n",
       "      <th>2</th>\n",
       "      <td>3</td>\n",
       "      <td>4.7</td>\n",
       "      <td>3.2</td>\n",
       "      <td>1.3</td>\n",
       "      <td>0.2</td>\n",
       "      <td>Iris-setosa</td>\n",
       "    </tr>\n",
       "    <tr>\n",
       "      <th>3</th>\n",
       "      <td>4</td>\n",
       "      <td>4.6</td>\n",
       "      <td>3.1</td>\n",
       "      <td>1.5</td>\n",
       "      <td>0.2</td>\n",
       "      <td>Iris-setosa</td>\n",
       "    </tr>\n",
       "    <tr>\n",
       "      <th>4</th>\n",
       "      <td>5</td>\n",
       "      <td>5.0</td>\n",
       "      <td>3.6</td>\n",
       "      <td>1.4</td>\n",
       "      <td>0.2</td>\n",
       "      <td>Iris-setosa</td>\n",
       "    </tr>\n",
       "  </tbody>\n",
       "</table>\n",
       "</div>"
      ],
      "text/plain": [
       "   Id  SepalLengthCm  SepalWidthCm  PetalLengthCm  PetalWidthCm      Species\n",
       "0   1            5.1           3.5            1.4           0.2  Iris-setosa\n",
       "1   2            4.9           3.0            1.4           0.2  Iris-setosa\n",
       "2   3            4.7           3.2            1.3           0.2  Iris-setosa\n",
       "3   4            4.6           3.1            1.5           0.2  Iris-setosa\n",
       "4   5            5.0           3.6            1.4           0.2  Iris-setosa"
      ]
     },
     "execution_count": 40,
     "metadata": {},
     "output_type": "execute_result"
    }
   ],
   "source": [
    "data.head()"
   ]
  },
  {
   "cell_type": "code",
   "execution_count": 41,
   "metadata": {},
   "outputs": [
    {
     "data": {
      "text/html": [
       "<div>\n",
       "<style scoped>\n",
       "    .dataframe tbody tr th:only-of-type {\n",
       "        vertical-align: middle;\n",
       "    }\n",
       "\n",
       "    .dataframe tbody tr th {\n",
       "        vertical-align: top;\n",
       "    }\n",
       "\n",
       "    .dataframe thead th {\n",
       "        text-align: right;\n",
       "    }\n",
       "</style>\n",
       "<table border=\"1\" class=\"dataframe\">\n",
       "  <thead>\n",
       "    <tr style=\"text-align: right;\">\n",
       "      <th></th>\n",
       "      <th>Id</th>\n",
       "      <th>SepalLengthCm</th>\n",
       "      <th>SepalWidthCm</th>\n",
       "      <th>PetalLengthCm</th>\n",
       "      <th>PetalWidthCm</th>\n",
       "      <th>Species</th>\n",
       "    </tr>\n",
       "  </thead>\n",
       "  <tbody>\n",
       "    <tr>\n",
       "      <th>145</th>\n",
       "      <td>146</td>\n",
       "      <td>6.7</td>\n",
       "      <td>3.0</td>\n",
       "      <td>5.2</td>\n",
       "      <td>2.3</td>\n",
       "      <td>Iris-virginica</td>\n",
       "    </tr>\n",
       "    <tr>\n",
       "      <th>146</th>\n",
       "      <td>147</td>\n",
       "      <td>6.3</td>\n",
       "      <td>2.5</td>\n",
       "      <td>5.0</td>\n",
       "      <td>1.9</td>\n",
       "      <td>Iris-virginica</td>\n",
       "    </tr>\n",
       "    <tr>\n",
       "      <th>147</th>\n",
       "      <td>148</td>\n",
       "      <td>6.5</td>\n",
       "      <td>3.0</td>\n",
       "      <td>5.2</td>\n",
       "      <td>2.0</td>\n",
       "      <td>Iris-virginica</td>\n",
       "    </tr>\n",
       "    <tr>\n",
       "      <th>148</th>\n",
       "      <td>149</td>\n",
       "      <td>6.2</td>\n",
       "      <td>3.4</td>\n",
       "      <td>5.4</td>\n",
       "      <td>2.3</td>\n",
       "      <td>Iris-virginica</td>\n",
       "    </tr>\n",
       "    <tr>\n",
       "      <th>149</th>\n",
       "      <td>150</td>\n",
       "      <td>5.9</td>\n",
       "      <td>3.0</td>\n",
       "      <td>5.1</td>\n",
       "      <td>1.8</td>\n",
       "      <td>Iris-virginica</td>\n",
       "    </tr>\n",
       "  </tbody>\n",
       "</table>\n",
       "</div>"
      ],
      "text/plain": [
       "      Id  SepalLengthCm  SepalWidthCm  PetalLengthCm  PetalWidthCm   \n",
       "145  146            6.7           3.0            5.2           2.3  \\\n",
       "146  147            6.3           2.5            5.0           1.9   \n",
       "147  148            6.5           3.0            5.2           2.0   \n",
       "148  149            6.2           3.4            5.4           2.3   \n",
       "149  150            5.9           3.0            5.1           1.8   \n",
       "\n",
       "            Species  \n",
       "145  Iris-virginica  \n",
       "146  Iris-virginica  \n",
       "147  Iris-virginica  \n",
       "148  Iris-virginica  \n",
       "149  Iris-virginica  "
      ]
     },
     "execution_count": 41,
     "metadata": {},
     "output_type": "execute_result"
    }
   ],
   "source": [
    "data.tail()"
   ]
  },
  {
   "cell_type": "code",
   "execution_count": 42,
   "metadata": {},
   "outputs": [
    {
     "data": {
      "image/png": "[encoded data removed]",
      "text/plain": [
       "<Figure size 640x480 with 1 Axes>"
      ]
     },
     "metadata": {},
     "output_type": "display_data"
    }
   ],
   "source": [
    "plt.bar(data['Species'],data['SepalLengthCm'])\n",
    "plt.title(\"sepal length vs species\")\n",
    "plt.xlabel(\"name of the species\")\n",
    "plt.ylabel(\"sepal length\")\n",
    "plt.grid(True)\n",
    "plt.show()"
   ]
  },
  {
   "cell_type": "code",
   "execution_count": 43,
   "metadata": {},
   "outputs": [
    {
     "name": "stdout",
     "output_type": "stream",
     "text": [
      "<class 'pandas.core.frame.DataFrame'>\n",
      "RangeIndex: 150 entries, 0 to 149\n",
      "Data columns (total 6 columns):\n",
      " #   Column         Non-Null Count  Dtype  \n",
      "---  ------         --------------  -----  \n",
      " 0   Id             150 non-null    int64  \n",
      " 1   SepalLengthCm  150 non-null    float64\n",
      " 2   SepalWidthCm   150 non-null    float64\n",
      " 3   PetalLengthCm  150 non-null    float64\n",
      " 4   PetalWidthCm   150 non-null    float64\n",
      " 5   Species        150 non-null    object \n",
      "dtypes: float64(4), int64(1), object(1)\n",
      "memory usage: 7.2+ KB\n"
     ]
    }
   ],
   "source": [
    "data.info()"
   ]
  },
  {
   "cell_type": "code",
   "execution_count": 44,
   "metadata": {},
   "outputs": [],
   "source": [
    "X=data.drop('Species',axis=1)"
   ]
  },
  {
   "cell_type": "code",
   "execution_count": 45,
   "metadata": {},
   "outputs": [
    {
     "data": {
      "text/html": [
       "<div>\n",
       "<style scoped>\n",
       "    .dataframe tbody tr th:only-of-type {\n",
       "        vertical-align: middle;\n",
       "    }\n",
       "\n",
       "    .dataframe tbody tr th {\n",
       "        vertical-align: top;\n",
       "    }\n",
       "\n",
       "    .dataframe thead th {\n",
       "        text-align: right;\n",
       "    }\n",
       "</style>\n",
       "<table border=\"1\" class=\"dataframe\">\n",
       "  <thead>\n",
       "    <tr style=\"text-align: right;\">\n",
       "      <th></th>\n",
       "      <th>Id</th>\n",
       "      <th>SepalLengthCm</th>\n",
       "      <th>SepalWidthCm</th>\n",
       "      <th>PetalLengthCm</th>\n",
       "      <th>PetalWidthCm</th>\n",
       "      <th>Species</th>\n",
       "    </tr>\n",
       "  </thead>\n",
       "  <tbody>\n",
       "    <tr>\n",
       "      <th>0</th>\n",
       "      <td>False</td>\n",
       "      <td>False</td>\n",
       "      <td>False</td>\n",
       "      <td>False</td>\n",
       "      <td>False</td>\n",
       "      <td>False</td>\n",
       "    </tr>\n",
       "    <tr>\n",
       "      <th>1</th>\n",
       "      <td>False</td>\n",
       "      <td>False</td>\n",
       "      <td>False</td>\n",
       "      <td>False</td>\n",
       "      <td>False</td>\n",
       "      <td>False</td>\n",
       "    </tr>\n",
       "    <tr>\n",
       "      <th>2</th>\n",
       "      <td>False</td>\n",
       "      <td>False</td>\n",
       "      <td>False</td>\n",
       "      <td>False</td>\n",
       "      <td>False</td>\n",
       "      <td>False</td>\n",
       "    </tr>\n",
       "    <tr>\n",
       "      <th>3</th>\n",
       "      <td>False</td>\n",
       "      <td>False</td>\n",
       "      <td>False</td>\n",
       "      <td>False</td>\n",
       "      <td>False</td>\n",
       "      <td>False</td>\n",
       "    </tr>\n",
       "    <tr>\n",
       "      <th>4</th>\n",
       "      <td>False</td>\n",
       "      <td>False</td>\n",
       "      <td>False</td>\n",
       "      <td>False</td>\n",
       "      <td>False</td>\n",
       "      <td>False</td>\n",
       "    </tr>\n",
       "    <tr>\n",
       "      <th>...</th>\n",
       "      <td>...</td>\n",
       "      <td>...</td>\n",
       "      <td>...</td>\n",
       "      <td>...</td>\n",
       "      <td>...</td>\n",
       "      <td>...</td>\n",
       "    </tr>\n",
       "    <tr>\n",
       "      <th>145</th>\n",
       "      <td>False</td>\n",
       "      <td>False</td>\n",
       "      <td>False</td>\n",
       "      <td>False</td>\n",
       "      <td>False</td>\n",
       "      <td>False</td>\n",
       "    </tr>\n",
       "    <tr>\n",
       "      <th>146</th>\n",
       "      <td>False</td>\n",
       "      <td>False</td>\n",
       "      <td>False</td>\n",
       "      <td>False</td>\n",
       "      <td>False</td>\n",
       "      <td>False</td>\n",
       "    </tr>\n",
       "    <tr>\n",
       "      <th>147</th>\n",
       "      <td>False</td>\n",
       "      <td>False</td>\n",
       "      <td>False</td>\n",
       "      <td>False</td>\n",
       "      <td>False</td>\n",
       "      <td>False</td>\n",
       "    </tr>\n",
       "    <tr>\n",
       "      <th>148</th>\n",
       "      <td>False</td>\n",
       "      <td>False</td>\n",
       "      <td>False</td>\n",
       "      <td>False</td>\n",
       "      <td>False</td>\n",
       "      <td>False</td>\n",
       "    </tr>\n",
       "    <tr>\n",
       "      <th>149</th>\n",
       "      <td>False</td>\n",
       "      <td>False</td>\n",
       "      <td>False</td>\n",
       "      <td>False</td>\n",
       "      <td>False</td>\n",
       "      <td>False</td>\n",
       "    </tr>\n",
       "  </tbody>\n",
       "</table>\n",
       "<p>150 rows × 6 columns</p>\n",
       "</div>"
      ],
      "text/plain": [
       "        Id  SepalLengthCm  SepalWidthCm  PetalLengthCm  PetalWidthCm  Species\n",
       "0    False          False         False          False         False    False\n",
       "1    False          False         False          False         False    False\n",
       "2    False          False         False          False         False    False\n",
       "3    False          False         False          False         False    False\n",
       "4    False          False         False          False         False    False\n",
       "..     ...            ...           ...            ...           ...      ...\n",
       "145  False          False         False          False         False    False\n",
       "146  False          False         False          False         False    False\n",
       "147  False          False         False          False         False    False\n",
       "148  False          False         False          False         False    False\n",
       "149  False          False         False          False         False    False\n",
       "\n",
       "[150 rows x 6 columns]"
      ]
     },
     "execution_count": 45,
     "metadata": {},
     "output_type": "execute_result"
    }
   ],
   "source": [
    "data.isnull()"
   ]
  },
  {
   "cell_type": "code",
   "execution_count": 46,
   "metadata": {},
   "outputs": [],
   "source": [
    "Y=data['Species']"
   ]
  },
  {
   "cell_type": "code",
   "execution_count": 47,
   "metadata": {},
   "outputs": [],
   "source": [
    "X_train, X_test, Y_train, Y_test=train_test_split(X,Y,test_size=0.24, random_state=20)\n"
   ]
  },
  {
   "cell_type": "code",
   "execution_count": 48,
   "metadata": {},
   "outputs": [],
   "source": [
    "scaler = StandardScaler()"
   ]
  },
  {
   "cell_type": "code",
   "execution_count": 49,
   "metadata": {},
   "outputs": [],
   "source": [
    "X_train = scaler.fit_transform(X_train)\n"
   ]
  },
  {
   "cell_type": "code",
   "execution_count": 50,
   "metadata": {},
   "outputs": [
    {
     "data": {
      "text/plain": [
       "array([[ 0.25058993,  0.16782396,  0.69731669,  0.41803027,  0.49149268],\n",
       "       [-1.67683912, -1.16414597, -0.20346634, -1.32614799, -1.315932  ],\n",
       "       [-0.52955992,  0.65217667,  0.24692517,  0.41803027,  0.36239091],\n",
       "       [ 1.28314121,  1.86305843, -0.65385786,  1.31825131,  0.87879796],\n",
       "       [-0.43777759, -0.19544056, -0.65385786,  0.41803027,  0.10418739],\n",
       "       [ 1.37492354,  0.28891214, -1.10424937,  1.03693224,  0.23328915],\n",
       "       [-0.8507981 , -1.16414597,  0.02172942, -1.26988417, -1.44503377],\n",
       "       [-0.20832175,  1.01544119,  0.02172942,  0.36176646,  0.23328915],\n",
       "       [-0.414832  ,  0.53108849,  0.47212093,  0.5305579 ,  0.49149268],\n",
       "       [-1.65389354, -1.40632232,  0.24692517, -1.3824118 , -1.315932  ],\n",
       "       [-1.58505679, -0.55870509,  1.82329547, -1.15735654, -1.05772848],\n",
       "       [-0.57545109, -1.0430578 ,  0.47212093, -1.32614799, -1.315932  ],\n",
       "       [ 0.89306628, -0.19544056, -1.32944513,  0.69934935,  1.00789973],\n",
       "       [-0.69017901, -0.92196962,  1.59809971, -1.04482891, -1.05772848],\n",
       "       [ 1.32903238,  0.65217667, -0.65385786,  1.03693224,  1.26610325],\n",
       "       [ 1.69616172,  0.41000031,  0.69731669,  0.92440461,  1.39520502],\n",
       "       [-0.9884716 , -0.55870509,  0.69731669, -1.26988417, -1.05772848],\n",
       "       [ 0.59477369,  0.53108849,  0.47212093,  1.2619875 ,  1.65340854],\n",
       "       [-0.2771585 ,  0.16782396, -2.0050324 ,  0.1367112 , -0.2831179 ],\n",
       "       [-0.23126733, -0.31652874, -0.4286621 , -0.08834406,  0.10418739],\n",
       "       [-0.18537617, -0.31652874, -0.20346634,  0.41803027,  0.36239091],\n",
       "       [-0.75901576, -1.64849868, -1.77983664, -1.3824118 , -1.18683024],\n",
       "       [-0.80490693, -0.92196962,  0.69731669, -1.26988417, -1.315932  ],\n",
       "       [ 0.13586201, -0.43761692, -1.55464088,  0.02418357, -0.15401614],\n",
       "       [ 0.52593694,  0.41000031, -0.4286621 ,  0.30550264,  0.10418739],\n",
       "       [ 0.41120902, -0.07435239, -1.10424937,  0.1367112 , -0.02491438],\n",
       "       [-0.11653941, -0.31652874, -1.32944513,  0.08044738, -0.15401614],\n",
       "       [ 0.27353551,  1.01544119,  0.02172942,  0.5305579 ,  0.36239091],\n",
       "       [-0.46072317,  0.77326484, -0.65385786,  0.47429409,  0.36239091],\n",
       "       [ 0.50299135, -0.19544056, -0.4286621 ,  0.24923883,  0.10418739],\n",
       "       [-1.17203627, -0.92196962,  0.47212093, -1.15735654, -0.92862672],\n",
       "       [-0.139485  ,  0.41000031, -2.0050324 ,  0.41803027,  0.36239091],\n",
       "       [ 0.2964811 ,  0.53108849, -1.77983664,  0.36176646,  0.10418739],\n",
       "       [-1.49327445, -1.16414597,  0.02172942, -1.26988417, -1.44503377],\n",
       "       [-0.82785252, -1.76958685, -0.20346634, -1.3824118 , -1.315932  ],\n",
       "       [ 0.22764435, -0.55870509, -0.20346634,  0.41803027,  0.36239091],\n",
       "       [-0.48366876, -0.43761692, -1.77983664,  0.1367112 ,  0.10418739],\n",
       "       [ 0.38826343,  0.28891214, -0.20346634,  0.47429409,  0.23328915],\n",
       "       [-1.26381861, -0.92196962,  1.59809971, -1.26988417, -1.18683024],\n",
       "       [-0.59839668, -0.67979327,  1.37290396, -1.26988417, -1.315932  ],\n",
       "       [ 0.93895745,  0.65217667,  0.24692517,  0.86814079,  1.39520502],\n",
       "       [-0.87374368, -0.43761692,  0.92251244, -1.3824118 , -1.315932  ],\n",
       "       [-1.01141719, -1.28523415,  0.02172942, -1.21362036, -1.315932  ],\n",
       "       [-0.32304967, -1.0430578 , -2.45542391, -0.14460787, -0.2831179 ],\n",
       "       [ 1.46670588,  0.16782396, -0.20346634,  0.58682172,  0.7496962 ],\n",
       "       [ 1.55848821, -0.07435239, -0.87905361,  0.75561316,  0.87879796],\n",
       "       [ 1.07663095, -0.31652874, -0.65385786,  0.64308553,  1.00789973],\n",
       "       [ 0.66361044,  0.53108849, -0.4286621 ,  1.03693224,  0.7496962 ],\n",
       "       [ 1.23725004,  0.65217667, -0.65385786,  1.03693224,  1.13700149],\n",
       "       [ 0.64066486,  1.4997939 , -0.20346634,  1.20572368,  1.13700149],\n",
       "       [ 0.18175318, -0.07435239, -0.87905361,  0.08044738, -0.02491438],\n",
       "       [ 0.96190303,  0.77326484, -0.20346634,  0.98066842,  0.7496962 ],\n",
       "       [ 1.39786913,  2.22632295, -0.20346634,  1.31825131,  1.39520502],\n",
       "       [ 0.80128394,  1.62088207,  1.1477082 ,  1.31825131,  1.65340854],\n",
       "       [-1.51622003, -1.76958685, -0.4286621 , -1.32614799, -1.315932  ],\n",
       "       [ 0.8701207 ,  1.13652937, -0.20346634,  0.98066842,  1.13700149],\n",
       "       [-1.08025394, -0.80088144,  0.92251244, -1.26988417, -1.315932  ],\n",
       "       [-1.60800237, -1.0430578 ,  1.1477082 , -1.32614799, -1.315932  ],\n",
       "       [-1.37854653, -0.07435239,  2.04849123, -1.43867562, -1.315932  ],\n",
       "       [ 1.62732497,  1.01544119, -0.20346634,  0.81187698,  1.39520502],\n",
       "       [-0.50661434,  1.25761755,  0.02172942,  0.64308553,  0.36239091],\n",
       "       [-0.09359383,  0.04673579,  0.24692517,  0.58682172,  0.7496962 ],\n",
       "       [ 1.48965146,  1.25761755,  0.02172942,  0.92440461,  1.13700149],\n",
       "       [ 1.12252212,  0.53108849, -0.87905361,  0.64308553,  0.7496962 ],\n",
       "       [ 0.45710019, -0.31652874, -0.87905361,  0.24923883,  0.10418739],\n",
       "       [-0.73607018, -1.76958685,  0.24692517, -1.3824118 , -1.315932  ],\n",
       "       [ 1.21430446,  0.28891214, -0.20346634,  0.64308553,  0.7496962 ],\n",
       "       [-0.94258044, -0.43761692,  2.49888274, -1.32614799, -1.315932  ],\n",
       "       [ 0.4341546 , -1.0430578 , -1.77983664, -0.2571355 , -0.2831179 ],\n",
       "       [ 0.98484862,  2.22632295,  1.59809971,  1.6558342 ,  1.26610325],\n",
       "       [-1.14909069, -1.28523415,  0.69731669, -1.04482891, -1.315932  ],\n",
       "       [ 0.08997084,  0.16782396, -0.4286621 ,  0.41803027,  0.36239091],\n",
       "       [-0.25421292,  0.28891214, -0.4286621 ,  0.5305579 ,  0.23328915],\n",
       "       [ 1.19135887,  0.41000031, -0.65385786,  0.58682172,  0.7496962 ],\n",
       "       [-0.66723343, -1.28523415, -0.20346634, -1.32614799, -1.18683024],\n",
       "       [-1.03436277, -1.40632232,  0.24692517, -1.21362036, -1.315932  ],\n",
       "       [ 1.16841329,  1.62088207,  0.24692517,  1.2619875 ,  0.7496962 ],\n",
       "       [ 1.60437938,  1.01544119,  0.47212093,  1.09319605,  1.65340854],\n",
       "       [-0.34599525, -0.80088144, -0.87905361,  0.08044738,  0.23328915],\n",
       "       [ 0.36531785, -0.43761692, -1.10424937,  0.36176646, -0.02491438],\n",
       "       [ 0.11291643, -0.19544056, -1.10424937, -0.14460787, -0.2831179 ],\n",
       "       [ 1.1454677 ,  1.01544119,  0.47212093,  1.09319605,  1.13700149],\n",
       "       [ 1.51259705,  1.01544119,  0.02172942,  1.03693224,  1.52430678],\n",
       "       [-0.7131246 , -1.0430578 ,  0.92251244, -1.21362036, -0.79952495],\n",
       "       [ 1.05368537,  1.25761755,  0.24692517,  1.09319605,  1.39520502],\n",
       "       [-1.30970978, -0.92196962,  0.92251244, -1.32614799, -1.18683024],\n",
       "       [ 0.06702526,  1.01544119, -0.20346634,  0.69934935,  0.62059444],\n",
       "       [-1.63094795, -1.5274105 ,  0.02172942, -1.26988417, -1.315932  ],\n",
       "       [-1.28676419, -0.19544056,  1.59809971, -1.15735654, -1.18683024],\n",
       "       [ 1.65027055,  0.53108849, -1.32944513,  0.69934935,  0.87879796],\n",
       "       [ 1.42081471,  0.53108849,  0.69731669,  1.03693224,  1.52430678],\n",
       "       [ 0.75539278,  1.74197025, -0.4286621 ,  1.43077894,  0.7496962 ],\n",
       "       [-1.47032887, -0.55870509,  1.37290396, -1.26988417, -1.315932  ],\n",
       "       [-0.96552602, -0.80088144,  2.27368699, -1.26988417, -1.44503377],\n",
       "       [ 0.82422953,  0.77326484,  0.24692517,  0.75561316,  1.00789973],\n",
       "       [ 0.20469876,  0.16782396, -0.87905361,  0.75561316,  0.49149268],\n",
       "       [-0.30010408,  0.04673579, -0.20346634,  0.24923883,  0.36239091],\n",
       "       [ 1.30608679,  2.4684993 ,  1.59809971,  1.48704276,  1.00789973],\n",
       "       [-1.12614511, -1.0430578 , -0.20346634, -1.21362036, -1.315932  ],\n",
       "       [ 1.53554263,  1.25761755,  0.02172942,  0.75561316,  1.39520502],\n",
       "       [-1.5621112 , -1.5274105 ,  0.69731669, -1.32614799, -1.18683024],\n",
       "       [-1.53916562, -1.0430578 ,  0.69731669, -1.26988417, -1.315932  ],\n",
       "       [ 0.61771927, -0.07435239, -0.87905361,  0.75561316,  0.87879796],\n",
       "       [ 0.70950161,  2.10523478, -0.20346634,  1.59957039,  1.13700149],\n",
       "       [-1.33265536, -0.55870509,  1.82329547, -1.3824118 , -1.05772848],\n",
       "       [-1.10319952, -1.0430578 ,  0.69731669, -1.21362036, -1.05772848],\n",
       "       [-0.78196135, -1.0430578 ,  0.92251244, -1.3824118 , -1.18683024],\n",
       "       [ 1.0077942 ,  2.22632295, -1.10424937,  1.76836183,  1.39520502],\n",
       "       [-0.07064825,  0.28891214, -0.65385786,  0.1367112 ,  0.10418739],\n",
       "       [-1.19498186, -1.5274105 ,  1.1477082 , -1.55120325, -1.315932  ],\n",
       "       [ 0.02113409,  0.89435302, -0.20346634,  0.36176646,  0.23328915],\n",
       "       [ 1.4437603 ,  0.65217667,  0.02172942,  0.98066842,  0.7496962 ],\n",
       "       [-1.35560095, -0.19544056,  2.94927426, -1.26988417, -1.05772848],\n",
       "       [ 0.57182811, -0.19544056, -0.65385786,  0.19297501,  0.10418739]])"
      ]
     },
     "execution_count": 50,
     "metadata": {},
     "output_type": "execute_result"
    }
   ],
   "source": [
    "X_train"
   ]
  },
  {
   "cell_type": "code",
   "execution_count": 51,
   "metadata": {},
   "outputs": [
    {
     "data": {
      "text/plain": [
       "array([[-0.68050667, -1.44478718,  0.70734698, -1.39251151, -1.31338208],\n",
       "       [-0.0668706 ,  0.38234415, -0.37624839,  0.5514411 ,  0.09381301],\n",
       "       [-0.04326921,  0.74777041, -0.10534955,  0.31581048,  0.23453251],\n",
       "       [ 1.25480709,  1.72224045,  0.16554929,  1.1994253 ,  0.65669104],\n",
       "       [-0.20847892,  0.01691788, -0.64714724,  0.19799517, -0.18762601],\n",
       "       [ 0.3107516 , -0.34850838, -1.18894492,  0.13908752,  0.23453251],\n",
       "       [ 1.58522652,  1.23500543,  0.70734698,  1.25833296,  1.6417276 ],\n",
       "       [-1.29414274, -0.8357434 ,  2.0618412 , -1.33360385, -1.03194307],\n",
       "       [ 0.75917796,  1.11319668, -1.18894492,  1.1994253 ,  0.93813006],\n",
       "       [-1.50655522, -1.20116967,  0.16554929, -1.39251151, -1.45410159],\n",
       "       [ 1.67963207,  0.86957917,  0.16554929,  0.84597938,  1.21956908],\n",
       "       [ 0.00393356,  1.23500543, -0.37624839,  0.61034876,  0.37525202],\n",
       "       [ 1.01879322,  0.26053539, -2.00164146,  0.72816407,  0.51597153],\n",
       "       [-0.96372332, -0.95755216,  0.70734698, -1.51032681, -1.31338208],\n",
       "       [-1.12893303, -0.71393465,  1.24914467, -1.39251151, -1.31338208],\n",
       "       [ 1.08959738,  2.33128423, -0.37624839,  1.7295942 ,  1.21956908],\n",
       "       [-1.48295384, -1.81021344,  0.16554929, -1.56923447, -1.45410159],\n",
       "       [-0.42089141,  0.99138792, -0.10534955,  0.49253345,  0.23453251],\n",
       "       [ 0.90078628,  0.01691788, -0.37624839,  0.78707172,  1.78244711],\n",
       "       [-0.44449279, -1.07936091, -1.45984377, -0.27326607, -0.18762601],\n",
       "       [-0.60970251,  1.47862294,  0.70734698,  0.5514411 ,  0.37525202],\n",
       "       [ 1.72683484,  0.13872664,  0.16554929,  0.78707172,  0.93813006],\n",
       "       [ 0.82998212,  0.74777041, -0.64714724,  0.90488703,  1.07884957],\n",
       "       [-1.31774413, -0.47031714,  1.24914467, -1.21578854, -1.31338208],\n",
       "       [-0.09047198,  0.62596166, -1.18894492,  0.66925641,  0.51597153],\n",
       "       [ 0.1219405 , -0.34850838, -1.45984377, -0.03763545, -0.18762601],\n",
       "       [ 0.52316409, -0.8357434 , -1.18894492, -0.44998903, -0.0469065 ],\n",
       "       [-0.9873247 , -1.07936091,  0.43644814, -1.33360385, -1.45410159],\n",
       "       [ 0.66477241,  0.86957917,  0.16554929,  1.1994253 ,  1.5010081 ],\n",
       "       [ 1.34921264,  0.62596166, -0.37624839,  0.78707172,  0.51597153],\n",
       "       [ 0.45235992, -0.10489087,  0.16554929,  0.25690283,  0.09381301],\n",
       "       [ 0.28715021, -0.22669963,  0.16554929,  0.19799517,  0.23453251],\n",
       "       [-1.78977187, -0.8357434 ,  1.52004351, -1.39251151, -1.31338208],\n",
       "       [-0.70410806, -0.8357434 ,  2.33274004, -1.2746962 , -1.31338208],\n",
       "       [-1.53015661, -1.20116967,  1.24914467, -1.2746962 , -1.31338208],\n",
       "       [ 0.71197518, -1.07936091, -1.18894492,  0.43362579,  0.79741055]])"
      ]
     },
     "execution_count": 51,
     "metadata": {},
     "output_type": "execute_result"
    }
   ],
   "source": [
    "X_test = scaler.fit_transform(X_test)\n",
    "X_test"
   ]
  },
  {
   "cell_type": "code",
   "execution_count": 52,
   "metadata": {},
   "outputs": [],
   "source": [
    "model = LogisticRegression()"
   ]
  },
  {
   "cell_type": "code",
   "execution_count": 53,
   "metadata": {},
   "outputs": [
    {
     "data": {
      "text/html": [
       "<style>#sk-container-id-3 {color: black;background-color: white;}#sk-container-id-3 pre{padding: 0;}#sk-container-id-3 div.sk-toggleable {background-color: white;}#sk-container-id-3 label.sk-toggleable__label {cursor: pointer;display: block;width: 100%;margin-bottom: 0;padding: 0.3em;box-sizing: border-box;text-align: center;}#sk-container-id-3 label.sk-toggleable__label-arrow:before {content: \"▸\";float: left;margin-right: 0.25em;color: #696969;}#sk-container-id-3 label.sk-toggleable__label-arrow:hover:before {color: black;}#sk-container-id-3 div.sk-estimator:hover label.sk-toggleable__label-arrow:before {color: black;}#sk-container-id-3 div.sk-toggleable__content {max-height: 0;max-width: 0;overflow: hidden;text-align: left;background-color: #f0f8ff;}#sk-container-id-3 div.sk-toggleable__content pre {margin: 0.2em;color: black;border-radius: 0.25em;background-color: #f0f8ff;}#sk-container-id-3 input.sk-toggleable__control:checked~div.sk-toggleable__content {max-height: 200px;max-width: 100%;overflow: auto;}#sk-container-id-3 input.sk-toggleable__control:checked~label.sk-toggleable__label-arrow:before {content: \"▾\";}#sk-container-id-3 div.sk-estimator input.sk-toggleable__control:checked~label.sk-toggleable__label {background-color: #d4ebff;}#sk-container-id-3 div.sk-label input.sk-toggleable__control:checked~label.sk-toggleable__label {background-color: #d4ebff;}#sk-container-id-3 input.sk-hidden--visually {border: 0;clip: rect(1px 1px 1px 1px);clip: rect(1px, 1px, 1px, 1px);height: 1px;margin: -1px;overflow: hidden;padding: 0;position: absolute;width: 1px;}#sk-container-id-3 div.sk-estimator {font-family: monospace;background-color: #f0f8ff;border: 1px dotted black;border-radius: 0.25em;box-sizing: border-box;margin-bottom: 0.5em;}#sk-container-id-3 div.sk-estimator:hover {background-color: #d4ebff;}#sk-container-id-3 div.sk-parallel-item::after {content: \"\";width: 100%;border-bottom: 1px solid gray;flex-grow: 1;}#sk-container-id-3 div.sk-label:hover label.sk-toggleable__label {background-color: #d4ebff;}#sk-container-id-3 div.sk-serial::before {content: \"\";position: absolute;border-left: 1px solid gray;box-sizing: border-box;top: 0;bottom: 0;left: 50%;z-index: 0;}#sk-container-id-3 div.sk-serial {display: flex;flex-direction: column;align-items: center;background-color: white;padding-right: 0.2em;padding-left: 0.2em;position: relative;}#sk-container-id-3 div.sk-item {position: relative;z-index: 1;}#sk-container-id-3 div.sk-parallel {display: flex;align-items: stretch;justify-content: center;background-color: white;position: relative;}#sk-container-id-3 div.sk-item::before, #sk-container-id-3 div.sk-parallel-item::before {content: \"\";position: absolute;border-left: 1px solid gray;box-sizing: border-box;top: 0;bottom: 0;left: 50%;z-index: -1;}#sk-container-id-3 div.sk-parallel-item {display: flex;flex-direction: column;z-index: 1;position: relative;background-color: white;}#sk-container-id-3 div.sk-parallel-item:first-child::after {align-self: flex-end;width: 50%;}#sk-container-id-3 div.sk-parallel-item:last-child::after {align-self: flex-start;width: 50%;}#sk-container-id-3 div.sk-parallel-item:only-child::after {width: 0;}#sk-container-id-3 div.sk-dashed-wrapped {border: 1px dashed gray;margin: 0 0.4em 0.5em 0.4em;box-sizing: border-box;padding-bottom: 0.4em;background-color: white;}#sk-container-id-3 div.sk-label label {font-family: monospace;font-weight: bold;display: inline-block;line-height: 1.2em;}#sk-container-id-3 div.sk-label-container {text-align: center;}#sk-container-id-3 div.sk-container {/* jupyter's `normalize.less` sets `[hidden] { display: none; }` but bootstrap.min.css set `[hidden] { display: none !important; }` so we also need the `!important` here to be able to override the default hidden behavior on the sphinx rendered scikit-learn.org. See: https://github.com/scikit-learn/scikit-learn/issues/21755 */display: inline-block !important;position: relative;}#sk-container-id-3 div.sk-text-repr-fallback {display: none;}</style><div id=\"sk-container-id-3\" class=\"sk-top-container\"><div class=\"sk-text-repr-fallback\"><pre>LogisticRegression()</pre><b>In a Jupyter environment, please rerun this cell to show the HTML representation or trust the notebook. <br />On GitHub, the HTML representation is unable to render, please try loading this page with nbviewer.org.</b></div><div class=\"sk-container\" hidden><div class=\"sk-item\"><div class=\"sk-estimator sk-toggleable\"><input class=\"sk-toggleable__control sk-hidden--visually\" id=\"sk-estimator-id-3\" type=\"checkbox\" checked><label for=\"sk-estimator-id-3\" class=\"sk-toggleable__label sk-toggleable__label-arrow\">LogisticRegression</label><div class=\"sk-toggleable__content\"><pre>LogisticRegression()</pre></div></div></div></div></div>"
      ],
      "text/plain": [
       "LogisticRegression()"
      ]
     },
     "execution_count": 53,
     "metadata": {},
     "output_type": "execute_result"
    }
   ],
   "source": [
    "model.fit(X_train,Y_train)"
   ]
  },
  {
   "cell_type": "code",
   "execution_count": 54,
   "metadata": {},
   "outputs": [
    {
     "data": {
      "text/plain": [
       "array(['Iris-setosa', 'Iris-versicolor', 'Iris-versicolor',\n",
       "       'Iris-virginica', 'Iris-versicolor', 'Iris-versicolor',\n",
       "       'Iris-virginica', 'Iris-setosa', 'Iris-virginica', 'Iris-setosa',\n",
       "       'Iris-virginica', 'Iris-versicolor', 'Iris-virginica',\n",
       "       'Iris-setosa', 'Iris-setosa', 'Iris-virginica', 'Iris-setosa',\n",
       "       'Iris-versicolor', 'Iris-virginica', 'Iris-versicolor',\n",
       "       'Iris-versicolor', 'Iris-virginica', 'Iris-virginica',\n",
       "       'Iris-setosa', 'Iris-versicolor', 'Iris-versicolor',\n",
       "       'Iris-versicolor', 'Iris-setosa', 'Iris-virginica',\n",
       "       'Iris-virginica', 'Iris-versicolor', 'Iris-versicolor',\n",
       "       'Iris-setosa', 'Iris-setosa', 'Iris-setosa', 'Iris-versicolor'],\n",
       "      dtype=object)"
      ]
     },
     "execution_count": 54,
     "metadata": {},
     "output_type": "execute_result"
    }
   ],
   "source": [
    "y_pred = model.predict(X_test)\n",
    "y_pred"
   ]
  },
  {
   "cell_type": "code",
   "execution_count": 55,
   "metadata": {},
   "outputs": [],
   "source": [
    "train_accuracy = model.score(X_train, Y_train)"
   ]
  },
  {
   "cell_type": "code",
   "execution_count": 56,
   "metadata": {},
   "outputs": [
    {
     "name": "stdout",
     "output_type": "stream",
     "text": [
      "the training accuracy is 1.0\n"
     ]
    }
   ],
   "source": [
    "print(\"the training accuracy is\", train_accuracy)"
   ]
  },
  {
   "cell_type": "code",
   "execution_count": 57,
   "metadata": {},
   "outputs": [
    {
     "name": "stdout",
     "output_type": "stream",
     "text": [
      "the testing accuracy is 0.9722222222222222\n"
     ]
    }
   ],
   "source": [
    "test_accuracy = model.score(X_test, Y_test)\n",
    "print(\"the testing accuracy is\", test_accuracy)"
   ]
  }
 ],
 "metadata": {
  "kernelspec": {
   "display_name": "Python 3",
   "language": "python",
   "name": "python3"
  },
  "language_info": {
   "codemirror_mode": {
    "name": "ipython",
    "version": 3
   },
   "file_extension": ".py",
   "mimetype": "text/x-python",
   "name": "python",
   "nbconvert_exporter": "python",
   "pygments_lexer": "ipython3",
   "version": "3.10.10"
  },
  "orig_nbformat": 4
 },
 "nbformat": 4,
 "nbformat_minor": 2
}
